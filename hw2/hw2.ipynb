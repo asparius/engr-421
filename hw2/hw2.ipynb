{
 "cells": [
  {
   "cell_type": "code",
   "execution_count": 30,
   "metadata": {},
   "outputs": [],
   "source": [
    "#necessary libraries\n",
    "import numpy as np\n",
    "import pandas as pd\n",
    "import matplotlib.pyplot as plt\n",
    "def safelog(x):\n",
    "    return(np.log(x + 1e-100))"
   ]
  },
  {
   "cell_type": "code",
   "execution_count": 31,
   "metadata": {},
   "outputs": [],
   "source": [
    "def safelog(x):\n",
    "    return(np.log(x + 1e-100))"
   ]
  },
  {
   "cell_type": "code",
   "execution_count": 32,
   "metadata": {},
   "outputs": [],
   "source": [
    "images= np.loadtxt(\"hw02_data_set_images.csv\",delimiter = \",\") \n",
    "labels = np.loadtxt(\"hw02_data_set_labels.csv\").astype(int)"
   ]
  },
  {
   "cell_type": "code",
   "execution_count": 33,
   "metadata": {},
   "outputs": [],
   "source": [
    "data = np.array(list(zip(images,labels))) # zipped together for further export\n",
    "\n",
    "# extraction of data training and test sets from data\n",
    "training_set = np.array([data[labels == c + 1][:25] for c in range(5)])\n",
    "test_set = np.array([data[labels == c+ 1][25:] for c in range(5)])\n",
    "training_set = np.concatenate(training_set)\n",
    "test_set = np.concatenate(test_set)"
   ]
  },
  {
   "cell_type": "code",
   "execution_count": 34,
   "metadata": {},
   "outputs": [],
   "source": [
    "# preprocessing\n",
    "x_training = np.concatenate(training_set[:,0].reshape(125,1),)\n",
    "y_training = np.stack(training_set[:,1])\n",
    "x_test = np.concatenate(test_set[:,0].reshape(70,1),)\n",
    "y_test = np.stack(test_set[:,1])\n"
   ]
  },
  {
   "cell_type": "code",
   "execution_count": 35,
   "metadata": {},
   "outputs": [],
   "source": [
    "class_priors = np.array([np.mean(y_training==c + 1) for c in range(5)]) # class frequency in training data set\n",
    "pcd = np.array([np.mean(x_training[y_training==c +1]) for c in range(5)]) # class means for an image"
   ]
  },
  {
   "cell_type": "code",
   "execution_count": 36,
   "metadata": {},
   "outputs": [
    {
     "name": "stdout",
     "output_type": "stream",
     "text": [
      "[[0.   0.   0.   ... 0.68 0.68 0.64]\n",
      " [0.04 0.24 0.24 ... 0.8  0.56 0.24]\n",
      " [0.   0.   0.   ... 0.6  0.88 0.8 ]\n",
      " [0.12 0.44 0.4  ... 0.28 0.16 0.08]\n",
      " [0.   0.12 0.12 ... 0.32 0.48 0.44]]\n"
     ]
    }
   ],
   "source": [
    "print(pcd)"
   ]
  },
  {
   "cell_type": "code",
   "execution_count": 37,
   "metadata": {},
   "outputs": [
    {
     "name": "stdout",
     "output_type": "stream",
     "text": [
      "[0.2 0.2 0.2 0.2 0.2]\n"
     ]
    }
   ],
   "source": [
    "print(class_priors)"
   ]
  },
  {
   "cell_type": "code",
   "execution_count": 40,
   "metadata": {},
   "outputs": [],
   "source": [
    "# prediction or naive bayes classifier\n",
    "# directly returns predicted class labels\n",
    "def prediction_for_x(x,pcd,class_priors):\n",
    "    \n",
    "    score_for_1 = np.sum([x[d]*safelog(pcd[0][d]) + (1-x[d])*safelog(1-pcd[0][d]) for d in range(len(x))]) + np.log(class_priors[0])\n",
    "    score_for_2 = np.sum([x[d]*safelog(pcd[1][d]) + (1-x[d])*safelog(1-pcd[1][d]) for d in range(len(x))]) + np.log(class_priors[1])\n",
    "    score_for_3 = np.sum([x[d]*safelog(pcd[2][d]) + (1-x[d])*safelog(1-pcd[2][d]) for d in range(len(x))]) + np.log(class_priors[2])\n",
    "    score_for_4 = np.sum([x[d]*safelog(pcd[3][d]) + (1-x[d])*safelog(1-pcd[3][d]) for d in range(len(x))]) + np.log(class_priors[3])\n",
    "    score_for_5 = np.sum([x[d]*safelog(pcd[4][d]) + (1-x[d])*safelog(1-pcd[4][d]) for d in range(len(x))]) + np.log(class_priors[4])\n",
    "    \n",
    "    return np.argmax(np.array([score_for_1,score_for_2,score_for_3,score_for_4,score_for_5])) + 1\n",
    "        \n",
    "        \n",
    "        \n",
    "    "
   ]
  },
  {
   "cell_type": "code",
   "execution_count": 41,
   "metadata": {},
   "outputs": [],
   "source": [
    "# a classifier for any given data set \n",
    "def prediction_for_X(X,pcd,class_priors):\n",
    "    prediction = []\n",
    "    for i in X:\n",
    "        prediction.append(prediction_for_x(i,pcd,class_priors))\n",
    "    return np.array(prediction)"
   ]
  },
  {
   "cell_type": "code",
   "execution_count": 42,
   "metadata": {},
   "outputs": [],
   "source": [
    "# prediction for training\n",
    "predicted = prediction_for_X(x_training,bypassed_pcd,class_priors)"
   ]
  },
  {
   "cell_type": "code",
   "execution_count": 43,
   "metadata": {},
   "outputs": [
    {
     "name": "stdout",
     "output_type": "stream",
     "text": [
      "y_truth   1   2   3   4   5\n",
      "y_pred                     \n",
      "1        25   0   0   0   0\n",
      "2         0  24   1   0   1\n",
      "3         0   0  24   0   0\n",
      "4         0   1   0  25   0\n",
      "5         0   0   0   0  24\n"
     ]
    }
   ],
   "source": [
    "\n",
    "confusion_matrix = pd.crosstab(predicted,y_training,rownames = [\"y_pred\"],colnames = [\"y_truth\"])\n",
    "print(confusion_matrix)"
   ]
  },
  {
   "cell_type": "code",
   "execution_count": 44,
   "metadata": {},
   "outputs": [
    {
     "name": "stdout",
     "output_type": "stream",
     "text": [
      "y_truth  1   2  3   4   5\n",
      "y_pred                   \n",
      "1        7   0  0   0   0\n",
      "2        0  11  3   2   4\n",
      "3        0   0  7   0   0\n",
      "4        7   3  3  12   0\n",
      "5        0   0  1   0  10\n"
     ]
    }
   ],
   "source": [
    "# prediction for test set\n",
    "predicted_test = prediction_for_X(x_test,bypassed_pcd,class_priors)\n",
    "confusion_matrix_test = pd.crosstab(predicted_test,y_test,rownames = [\"y_pred\"],colnames = [\"y_truth\"])\n",
    "print(confusion_matrix_test)"
   ]
  },
  {
   "cell_type": "code",
   "execution_count": null,
   "metadata": {},
   "outputs": [],
   "source": []
  }
 ],
 "metadata": {
  "kernelspec": {
   "display_name": "Python 3",
   "language": "python",
   "name": "python3"
  },
  "language_info": {
   "codemirror_mode": {
    "name": "ipython",
    "version": 3
   },
   "file_extension": ".py",
   "mimetype": "text/x-python",
   "name": "python",
   "nbconvert_exporter": "python",
   "pygments_lexer": "ipython3",
   "version": "3.7.6"
  }
 },
 "nbformat": 4,
 "nbformat_minor": 4
}
