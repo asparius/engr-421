{
 "cells": [
  {
   "cell_type": "code",
   "execution_count": 178,
   "id": "d8d65950",
   "metadata": {},
   "outputs": [],
   "source": [
    "import numpy as np\n",
    "import pandas as pd\n",
    "import matplotlib.pyplot as plt\n",
    "import math\n",
    "def safelog2(x):\n",
    "    if x == 0:\n",
    "        return(0)\n",
    "    else:\n",
    "        return(np.log2(x))"
   ]
  },
  {
   "cell_type": "code",
   "execution_count": 179,
   "id": "095e8ba0",
   "metadata": {},
   "outputs": [],
   "source": [
    "training = np.loadtxt(\"hw05_data_set_train.csv\",delimiter = \",\")\n",
    "test = np.loadtxt(\"hw05_data_set_test.csv\",delimiter = \",\")\n",
    "x_train = training[:,0]\n",
    "y_train = training[:,1]\n",
    "x_test = test[:,0]\n",
    "y_test = test[:,1]\n",
    "N_train = len(y_train)\n",
    "N_test = len(y_test)"
   ]
  },
  {
   "cell_type": "code",
   "execution_count": 180,
   "id": "d26586fe",
   "metadata": {},
   "outputs": [],
   "source": [
    "# create necessary data structures\n",
    "node_indices = {}\n",
    "is_terminal = {}\n",
    "need_split = {}\n",
    "\n",
    "node_features = {}\n",
    "node_splits = {}\n",
    "node_averages = {}\n",
    "# put all training instances into the root node\n",
    "node_indices[1] = np.array(range(N_train))\n",
    "is_terminal[1] = False\n",
    "need_split[1] = True"
   ]
  },
  {
   "cell_type": "code",
   "execution_count": 181,
   "id": "c897530c",
   "metadata": {},
   "outputs": [],
   "source": [
    "# learning algorithm\n",
    "while True:\n",
    "    # find nodes that need splitting\n",
    "    split_nodes = [key for key, value in need_split.items()\n",
    "                   if value == True]\n",
    "    # check whether we reach all terminal nodes\n",
    "    if len(split_nodes) == 0:\n",
    "        break\n",
    "    # find best split positions for all nodes\n",
    "    for split_node in split_nodes:\n",
    "        data_indices = node_indices[split_node]\n",
    "        need_split[split_node] = False\n",
    "        node_averages[split_node] = np.mean(y_train[data_indices])\n",
    "        if len(data_indices) <=30:\n",
    "            is_terminal[split_node] = True\n",
    "            \n",
    "        else:\n",
    "            is_terminal[split_node] = False\n",
    "\n",
    "            best_score = 0.0\n",
    "            best_split = 0.0\n",
    "            \n",
    "            unique_values = np.sort(np.unique(x_train[data_indices]))\n",
    "            split_positions = (unique_values[1:len(unique_values)] + \\\n",
    "                                   unique_values[0:(len(unique_values) - 1)]) / 2\n",
    "            split_scores = np.repeat(0.0, len(split_positions))\n",
    "            for s in range(len(split_positions)):\n",
    "                left_indices = data_indices[x_train[data_indices] > \\\n",
    "                                   split_positions[s]]\n",
    "                right_indices = data_indices[x_train[data_indices] <= \\\n",
    "                                    split_positions[s]]\n",
    "                \n",
    "                \n",
    "                \n",
    "                split_scores[s] = (np.sum(np.square(y_train[left_indices] - np.mean(y_train[left_indices]))) + \\\n",
    "                                   np.sum(np.square(y_train[right_indices] - np.mean(y_train[right_indices]))))/ len(data_indices)\n",
    "                \n",
    "                \n",
    "                \n",
    "                \n",
    "                \n",
    "            best_score = np.min(split_scores)\n",
    "            best_split = split_positions[np.argmin(split_scores)]\n",
    "            \n",
    "            node_features[split_node] = best_score\n",
    "            node_splits[split_node] = best_split\n",
    "            \n",
    "            # create left node using the selected split\n",
    "            left_indices = data_indices[x_train[data_indices] > \\\n",
    "                           best_split]\n",
    "            node_indices[2 * split_node] = left_indices\n",
    "            is_terminal[2 * split_node] = False\n",
    "            need_split[2 * split_node] = True\n",
    "      \n",
    "            # create right node using the selected split\n",
    "            right_indices = data_indices[x_train[data_indices] <= \\\n",
    "                            best_split]\n",
    "            node_indices[2 * split_node + 1] = right_indices\n",
    "            is_terminal[2 * split_node + 1] = False\n",
    "            need_split[2 * split_node + 1] = True"
   ]
  },
  {
   "cell_type": "code",
   "execution_count": 182,
   "id": "46761cbe",
   "metadata": {
    "scrolled": true
   },
   "outputs": [
    {
     "name": "stdout",
     "output_type": "stream",
     "text": [
      "['x > 1.23' 'x <= 1.57'] => -0.3112962962962963\n",
      "['x > 1.23' 'x > 1.57' 'x > 1.72'] => -0.5294444444444445\n",
      "['x > 1.23' 'x > 1.57' 'x <= 1.72'] => -0.7458333333333332\n",
      "['x <= 1.23' 'x > 0.65' 'x > 0.93'] => -0.0726923076923077\n",
      "['x <= 1.23' 'x > 0.65' 'x <= 0.93'] => -0.23854166666666668\n",
      "['x <= 1.23' 'x <= 0.65' 'x <= 0.33'] => -0.131\n",
      "['x <= 1.23' 'x <= 0.65' 'x > 0.33' 'x > 0.36'] => -0.012333333333333333\n",
      "['x <= 1.23' 'x <= 0.65' 'x > 0.33' 'x <= 0.36'] => 1.265\n"
     ]
    }
   ],
   "source": [
    "# extract rules\n",
    "terminal_nodes = [key for key, value in is_terminal.items()\n",
    "                  if value == True]\n",
    "for terminal_node in terminal_nodes:\n",
    "    index = terminal_node\n",
    "    rules = np.array([])\n",
    "    while index > 1:\n",
    "        parent = np.floor(index / 2)\n",
    "        if index % 2 == 0:\n",
    "            # if node is left child of its parent\n",
    "            rules = np.append(rules, \n",
    "                              \"x > {:.2f}\".format(node_splits[parent]))\n",
    "        else:\n",
    "            # if node is right child of its parent\n",
    "            rules = np.append(rules,\n",
    "                              \"x <= {:.2f}\".format(node_splits[parent]))\n",
    "        index = parent\n",
    "    rules = np.flip(rules)\n",
    "    print(\"{} => {}\".format(rules, node_averages[terminal_node]))"
   ]
  },
  {
   "cell_type": "code",
   "execution_count": 191,
   "id": "b69c702d",
   "metadata": {},
   "outputs": [
    {
     "data": {
      "text/plain": [
       "{1: 1.2319445,\n",
       " 2: 1.5694445,\n",
       " 3: 0.6541669999999999,\n",
       " 4: 1.7166665,\n",
       " 6: 0.9305555000000001,\n",
       " 7: 0.325,\n",
       " 14: 0.36111099999999996}"
      ]
     },
     "execution_count": 191,
     "metadata": {},
     "output_type": "execute_result"
    }
   ],
   "source": [
    "node_splits"
   ]
  },
  {
   "cell_type": "code",
   "execution_count": 184,
   "id": "c0fdb4b4",
   "metadata": {},
   "outputs": [
    {
     "data": {
      "text/plain": [
       "(180,)"
      ]
     },
     "execution_count": 184,
     "metadata": {},
     "output_type": "execute_result"
    }
   ],
   "source": [
    "y_test.shape"
   ]
  },
  {
   "cell_type": "code",
   "execution_count": 185,
   "id": "deca5287",
   "metadata": {},
   "outputs": [],
   "source": [
    "y_predicted_train = np.repeat(0.0, N_train)\n",
    "for i in range(N_train):\n",
    "    index = 1\n",
    "    while True:\n",
    "        if is_terminal[index] == True:\n",
    "            y_predicted_train[i] = node_averages[index]\n",
    "            break\n",
    "        else:\n",
    "            if x_train[i] > node_splits[index]:\n",
    "                index = index * 2\n",
    "            else:\n",
    "                index = index * 2 + 1"
   ]
  },
  {
   "cell_type": "code",
   "execution_count": 186,
   "id": "936250de",
   "metadata": {},
   "outputs": [],
   "source": [
    "y_predicted_test = np.repeat(0.0, y_test.shape[0])\n",
    "for i in range(y_test.shape[0]):\n",
    "    index = 1\n",
    "    while True:\n",
    "        if is_terminal[index] == True:\n",
    "            y_predicted_test[i] = node_averages[index]\n",
    "            break\n",
    "        else:\n",
    "            if x_test[i] > node_splits[index]:\n",
    "                index = index * 2\n",
    "            else:\n",
    "                index = index * 2 + 1"
   ]
  },
  {
   "cell_type": "code",
   "execution_count": null,
   "id": "bc6f785c",
   "metadata": {},
   "outputs": [],
   "source": []
  },
  {
   "cell_type": "code",
   "execution_count": 193,
   "id": "76ee7e8f",
   "metadata": {
    "scrolled": true
   },
   "outputs": [
    {
     "data": {
      "image/png": "[encoded data removed]",
      "text/plain": [
       "<Figure size 720x432 with 1 Axes>"
      ]
     },
     "metadata": {
      "needs_background": "light"
     },
     "output_type": "display_data"
    }
   ],
   "source": [
    "minimum_value = 0\n",
    "maximum_value = math.ceil(np.max(x_train))\n",
    "\n",
    "plt.figure(figsize = (10,6))\n",
    "plt.plot(x_train,y_train,\"b.\",markersize = 10,label = \"training\")\n",
    "plt.plot(x_train,y_predicted_train,\"r.\")\n",
    "\n",
    "plt.show()\n"
   ]
  },
  {
   "cell_type": "code",
   "execution_count": 194,
   "id": "ceb4bd8d",
   "metadata": {},
   "outputs": [
    {
     "name": "stdout",
     "output_type": "stream",
     "text": [
      "Kernel smoother => RMSE is 0.2881929342801884 \n"
     ]
    }
   ],
   "source": [
    "square_error = np.sqrt(np.sum(np.square(y_train - y_predicted_train))/len(y_test))\n",
    "print(\"Kernel smoother => RMSE is \" + str(square_error) +\" \")"
   ]
  },
  {
   "cell_type": "code",
   "execution_count": null,
   "id": "abc82021",
   "metadata": {},
   "outputs": [],
   "source": []
  },
  {
   "cell_type": "code",
   "execution_count": null,
   "id": "ade6eb25",
   "metadata": {},
   "outputs": [],
   "source": []
  }
 ],
 "metadata": {
  "kernelspec": {
   "display_name": "Python 3",
   "language": "python",
   "name": "python3"
  },
  "language_info": {
   "codemirror_mode": {
    "name": "ipython",
    "version": 3
   },
   "file_extension": ".py",
   "mimetype": "text/x-python",
   "name": "python",
   "nbconvert_exporter": "python",
   "pygments_lexer": "ipython3",
   "version": "3.7.13"
  }
 },
 "nbformat": 4,
 "nbformat_minor": 5
}
