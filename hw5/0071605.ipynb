{
 "cells": [
  {
   "cell_type": "code",
   "execution_count": 25,
   "id": "ec3c50c6",
   "metadata": {},
   "outputs": [],
   "source": [
    "import numpy as np\n",
    "import pandas as pd\n",
    "import matplotlib.pyplot as plt\n",
    "import math\n",
    "def safelog2(x):\n",
    "    if x == 0:\n",
    "        return(0)\n",
    "    else:\n",
    "        return(np.log2(x))"
   ]
  },
  {
   "cell_type": "code",
   "execution_count": 26,
   "id": "e542f274",
   "metadata": {},
   "outputs": [],
   "source": [
    "training = np.loadtxt(\"hw05_data_set_train.csv\",delimiter = \",\")\n",
    "test = np.loadtxt(\"hw05_data_set_test.csv\",delimiter = \",\")\n",
    "x_train = training[:,0]\n",
    "y_train = training[:,1]\n",
    "x_test = test[:,0]\n",
    "y_test = test[:,1]\n",
    "N_train = len(y_train)\n",
    "N_test = len(y_test)"
   ]
  },
  {
   "cell_type": "code",
   "execution_count": 27,
   "id": "565509bd",
   "metadata": {},
   "outputs": [],
   "source": [
    "def regression_tree(P):\n",
    "    node_indices = {}\n",
    "    is_terminal = {}\n",
    "    need_split = {}\n",
    "\n",
    "    node_features = {}\n",
    "    node_splits = {}\n",
    "    node_averages = {}\n",
    "    # put all training instances into the root node\n",
    "    node_indices[1] = np.array(range(N_train))\n",
    "    is_terminal[1] = False\n",
    "    need_split[1] = True\n",
    "    # learning algorithm\n",
    "    while True:\n",
    "    # find nodes that need splitting\n",
    "        split_nodes = [key for key, value in need_split.items()\n",
    "                   if value == True]\n",
    "    # check whether we reach all terminal nodes\n",
    "        if len(split_nodes) == 0:\n",
    "            break\n",
    "    # find best split positions for all nodes\n",
    "        for split_node in split_nodes:\n",
    "            data_indices = node_indices[split_node]\n",
    "            need_split[split_node] = False\n",
    "            \n",
    "            if len(data_indices) <= P:\n",
    "                is_terminal[split_node] = True\n",
    "                node_averages[split_node] = np.mean(y_train[data_indices])\n",
    "            \n",
    "            else:\n",
    "                is_terminal[split_node] = False\n",
    "\n",
    "                best_score = 0.0\n",
    "                best_split = 0.0\n",
    "            \n",
    "                unique_values = np.sort(np.unique(x_train[data_indices]))\n",
    "                split_positions = (unique_values[1:len(unique_values)] + \\\n",
    "                                   unique_values[0:(len(unique_values) - 1)]) / 2\n",
    "                split_scores = np.repeat(0.0, len(split_positions))\n",
    "                for s in range(len(split_positions)):\n",
    "                    left_indices = data_indices[x_train[data_indices] > \\\n",
    "                                   split_positions[s]]\n",
    "                    right_indices = data_indices[x_train[data_indices] <= \\\n",
    "                                    split_positions[s]]\n",
    "                \n",
    "                \n",
    "                \n",
    "                    split_scores[s] = (np.sum(np.square(y_train[left_indices] - np.mean(y_train[left_indices]))) + \\\n",
    "                                   np.sum(np.square(y_train[right_indices] - np.mean(y_train[right_indices]))))/ len(data_indices)\n",
    "                \n",
    "                \n",
    "                \n",
    "                \n",
    "                \n",
    "                best_score = np.min(split_scores)\n",
    "                best_split = split_positions[np.argmin(split_scores)]\n",
    "            \n",
    "                node_features[split_node] = best_score\n",
    "                node_splits[split_node] = best_split\n",
    "            \n",
    "                # create left node using the selected split\n",
    "                left_indices = data_indices[x_train[data_indices] > \\\n",
    "                           best_split]\n",
    "                node_indices[2 * split_node] = left_indices\n",
    "                is_terminal[2 * split_node] = False\n",
    "                need_split[2 * split_node] = True\n",
    "      \n",
    "                # create right node using the selected split\n",
    "                right_indices = data_indices[x_train[data_indices] <= \\\n",
    "                            best_split]\n",
    "                node_indices[2 * split_node + 1] = right_indices\n",
    "                is_terminal[2 * split_node + 1] = False\n",
    "                need_split[2 * split_node + 1] = True\n",
    "                \n",
    "                \n",
    "    y_predicted_train = np.repeat(0.0, N_train)\n",
    "    for i in range(N_train):\n",
    "        index = 1\n",
    "        while True:\n",
    "            if is_terminal[index] == True:\n",
    "                y_predicted_train[i] = node_averages[index]\n",
    "                break\n",
    "            else:\n",
    "                if x_train[i] > node_splits[index]:\n",
    "                    index = index * 2\n",
    "                else:\n",
    "                    index = index * 2 + 1\n",
    "                    \n",
    "    y_predicted_test = np.repeat(0.0, N_test)\n",
    "    for i in range(N_test):\n",
    "        index = 1\n",
    "        while True:\n",
    "            if is_terminal[index] == True:\n",
    "                y_predicted_test[i] = node_averages[index]\n",
    "                break\n",
    "            else:\n",
    "                if x_test[i] > node_splits[index]:\n",
    "                    index = index * 2\n",
    "                else:\n",
    "                    index = index * 2 + 1\n",
    "    train_error = np.sqrt(np.sum(np.square(y_train - y_predicted_train))/len(y_train))\n",
    "    test_error = np.sqrt(np.sum(np.square(y_test - y_predicted_test))/len(y_test))\n",
    "    \n",
    "    return is_terminal,node_averages,node_splits,train_error,test_error,node_indices\n",
    "    "
   ]
  },
  {
   "cell_type": "code",
   "execution_count": 28,
   "id": "c008b1ff",
   "metadata": {},
   "outputs": [],
   "source": [
    "P = 30\n",
    "is_terminal,node_averages,node_splits,train_error,test_error,node_indices = regression_tree(P)\n"
   ]
  },
  {
   "cell_type": "code",
   "execution_count": 29,
   "id": "c849cc08",
   "metadata": {},
   "outputs": [
    {
     "data": {
      "text/plain": [
       "{1: False,\n",
       " 2: False,\n",
       " 3: False,\n",
       " 4: False,\n",
       " 5: True,\n",
       " 6: False,\n",
       " 7: False,\n",
       " 8: True,\n",
       " 9: True,\n",
       " 12: True,\n",
       " 13: True,\n",
       " 14: False,\n",
       " 15: True,\n",
       " 28: True,\n",
       " 29: True}"
      ]
     },
     "execution_count": 29,
     "metadata": {},
     "output_type": "execute_result"
    }
   ],
   "source": [
    "is_terminal"
   ]
  },
  {
   "cell_type": "code",
   "execution_count": 30,
   "id": "ea733ae3",
   "metadata": {},
   "outputs": [
    {
     "data": {
      "image/png": "[encoded data removed]",
      "text/plain": [
       "<Figure size 432x288 with 1 Axes>"
      ]
     },
     "metadata": {
      "needs_background": "light"
     },
     "output_type": "display_data"
    }
   ],
   "source": [
    "train_dic = {}\n",
    "\n",
    "for key,value in node_indices.items():\n",
    "    for v in value:\n",
    "        if key in node_averages:\n",
    "            if x_train[v] not in train_dic:\n",
    "                train_dic[x_train[v]] = node_averages[key]\n",
    "\n",
    "train_dic = {k: v for k, v in sorted(train_dic.items(), key=lambda item: item[0])}\n",
    "\n",
    "\n",
    "for b in range(1,len(train_dic)):\n",
    "    plt.plot([list(train_dic.keys())[b-1], list(train_dic.keys())[b]], [list(train_dic.values())[b], list(train_dic.values())[b]] , \"k-\")\n",
    "for b in range(len(train_dic) -1):\n",
    "    plt.plot([list(train_dic.keys())[b], list(train_dic.keys())[b]], [list(train_dic.values())[b], list(train_dic.values())[b + 1]] , \"k-\")\n",
    "plt.show()"
   ]
  },
  {
   "cell_type": "code",
   "execution_count": 31,
   "id": "391c686c",
   "metadata": {},
   "outputs": [
    {
     "name": "stdout",
     "output_type": "stream",
     "text": [
      "['x > 1.23' 'x <= 1.57'] => -0.3112962962962963\n",
      "['x > 1.23' 'x > 1.57' 'x > 1.72'] => -0.5294444444444445\n",
      "['x > 1.23' 'x > 1.57' 'x <= 1.72'] => -0.7458333333333332\n",
      "['x <= 1.23' 'x > 0.65' 'x > 0.93'] => -0.0726923076923077\n",
      "['x <= 1.23' 'x > 0.65' 'x <= 0.93'] => -0.23854166666666668\n",
      "['x <= 1.23' 'x <= 0.65' 'x <= 0.33'] => -0.131\n",
      "['x <= 1.23' 'x <= 0.65' 'x > 0.33' 'x > 0.36'] => -0.012333333333333333\n",
      "['x <= 1.23' 'x <= 0.65' 'x > 0.33' 'x <= 0.36'] => 1.265\n"
     ]
    }
   ],
   "source": [
    "# extract rules\n",
    "terminal_nodes = [key for key, value in is_terminal.items()\n",
    "                  if value == True]\n",
    "for terminal_node in terminal_nodes:\n",
    "    index = terminal_node\n",
    "    rules = np.array([])\n",
    "    while index > 1:\n",
    "        parent = np.floor(index / 2)\n",
    "        if index % 2 == 0:\n",
    "            # if node is left child of its parent\n",
    "            rules = np.append(rules, \n",
    "                              \"x > {:.2f}\".format(node_splits[parent]))\n",
    "        else:\n",
    "            # if node is right child of its parent\n",
    "            rules = np.append(rules,\n",
    "                              \"x <= {:.2f}\".format(node_splits[parent]))\n",
    "        index = parent\n",
    "    rules = np.flip(rules)\n",
    "    print(\"{} => {}\".format(rules, node_averages[terminal_node]))"
   ]
  },
  {
   "cell_type": "code",
   "execution_count": 32,
   "id": "b3734069",
   "metadata": {},
   "outputs": [],
   "source": [
    "splits = [np.min(x_train),0.33,0.36,0.65,0.93,1.23,1.57,1.72,np.max(x_train)]\n",
    "values = [-0.131,1.265,-0.012333333333333333,-0.23854166666666668,-0.0726923076923077,-0.3112962962962963,-0.7458333333333332,-0.5294444444444445]"
   ]
  },
  {
   "cell_type": "code",
   "execution_count": 33,
   "id": "1540d06f",
   "metadata": {},
   "outputs": [
    {
     "data": {
      "image/png": "[encoded data removed]",
      "text/plain": [
       "<Figure size 720x432 with 1 Axes>"
      ]
     },
     "metadata": {
      "needs_background": "light"
     },
     "output_type": "display_data"
    }
   ],
   "source": [
    "left_borders = splits[:-1]\n",
    "right_borders = splits[1:]\n",
    "plt.figure(figsize = (10,6))\n",
    "\n",
    "plt.plot(x_train,y_train,\"b.\",markersize = 10,label= \"training\")\n",
    "for b in range(len(left_borders)):\n",
    "    plt.plot([left_borders[b], right_borders[b]], [values[b], values[b]], \"k-\")\n",
    "for b in range(len(left_borders) - 1):\n",
    "    plt.plot([right_borders[b], right_borders[b]], [values[b], values[b + 1]], \"k-\")\n",
    "\n",
    "plt.legend(frameon=True)\n",
    "plt.show()"
   ]
  },
  {
   "cell_type": "code",
   "execution_count": 34,
   "id": "d6a254f7",
   "metadata": {},
   "outputs": [
    {
     "data": {
      "image/png": "[encoded data removed]",
      "text/plain": [
       "<Figure size 720x432 with 1 Axes>"
      ]
     },
     "metadata": {
      "needs_background": "light"
     },
     "output_type": "display_data"
    }
   ],
   "source": [
    "left_borders = splits[:-1]\n",
    "right_borders = splits[1:]\n",
    "plt.figure(figsize = (10,6))\n",
    "\n",
    "plt.plot(x_test,y_test,\"r.\",markersize = 10,label= \"test\")\n",
    "for b in range(len(left_borders)):\n",
    "    plt.plot([left_borders[b], right_borders[b]], [values[b], values[b]], \"k-\")\n",
    "for b in range(len(left_borders) - 1):\n",
    "    plt.plot([right_borders[b], right_borders[b]], [values[b], values[b + 1]], \"k-\")\n",
    "\n",
    "plt.legend(frameon=True)\n",
    "plt.show()"
   ]
  },
  {
   "cell_type": "code",
   "execution_count": 35,
   "id": "4370f9aa",
   "metadata": {},
   "outputs": [
    {
     "name": "stdout",
     "output_type": "stream",
     "text": [
      "RMSE on training set is 0.2881929342801884 when P is 30\n",
      "RMSE on training set is 0.22542236010134897 when P is 30\n"
     ]
    }
   ],
   "source": [
    "print(\"RMSE on training set is \" + str(train_error) +\" when P is \" + str(P))\n",
    "print(\"RMSE on training set is \" + str(test_error) +\" when P is \" + str(P))"
   ]
  },
  {
   "cell_type": "code",
   "execution_count": 38,
   "id": "79a93eb6",
   "metadata": {},
   "outputs": [],
   "source": [
    "train_error = {}\n",
    "test_error = {}\n",
    "for i in range(10,51,5):\n",
    "    _,_,_,train,test,_ = regression_tree(i)\n",
    "    \n",
    "    train_error[i] = train\n",
    "    test_error[i] = test\n",
    "    "
   ]
  },
  {
   "cell_type": "code",
   "execution_count": 39,
   "id": "3310d2fc",
   "metadata": {},
   "outputs": [
    {
     "data": {
      "image/png": "[encoded data removed]",
      "text/plain": [
       "<Figure size 864x576 with 1 Axes>"
      ]
     },
     "metadata": {
      "needs_background": "light"
     },
     "output_type": "display_data"
    }
   ],
   "source": [
    "plt.figure(figsize = (12,8))\n",
    "plt.plot(train_error.keys(),train_error.values(),\".b-\",label = \"training\")\n",
    "plt.plot(test_error.keys(),test_error.values(),\".r-\",label = \"test\")\n",
    "plt.legend(frameon= True)\n",
    "plt.show()"
   ]
  },
  {
   "cell_type": "code",
   "execution_count": null,
   "id": "af5f4b5c",
   "metadata": {},
   "outputs": [],
   "source": []
  }
 ],
 "metadata": {
  "kernelspec": {
   "display_name": "Python 3",
   "language": "python",
   "name": "python3"
  },
  "language_info": {
   "codemirror_mode": {
    "name": "ipython",
    "version": 3
   },
   "file_extension": ".py",
   "mimetype": "text/x-python",
   "name": "python",
   "nbconvert_exporter": "python",
   "pygments_lexer": "ipython3",
   "version": "3.7.13"
  }
 },
 "nbformat": 4,
 "nbformat_minor": 5
}
