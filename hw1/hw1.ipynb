{
 "cells": [
  {
   "cell_type": "code",
   "execution_count": 285,
   "metadata": {},
   "outputs": [],
   "source": [
    "import numpy as np\n",
    "import scipy.stats as st\n",
    "import matplotlib.pyplot as plt\n",
    "import numpy.linalg as lin\n",
    "import pandas as pd\n",
    "from sklearn.metrics import confusion_matrix\n",
    "\n",
    "\n"
   ]
  },
  {
   "cell_type": "code",
   "execution_count": null,
   "metadata": {},
   "outputs": [],
   "source": []
  },
  {
   "cell_type": "code",
   "execution_count": 286,
   "metadata": {},
   "outputs": [],
   "source": [
    "mean = [[0.0,4.5],[-4.5,-1.0],[4.5,-1.0],[0.0,-4.0]]\n",
    "cov  = [[[3.2,0.0],[0.0,1.2]],[[1.2,0.8],[0.8,1.2]],[[1.2,-0.8],[-0.8,1.2]],[[1.2,0.0],[0.0,3.2]]]\n",
    "class_sizes = [105,145,135,115]"
   ]
  },
  {
   "cell_type": "code",
   "execution_count": 287,
   "metadata": {},
   "outputs": [
    {
     "data": {
      "image/png": "[encoded data removed]",
      "text/plain": [
       "<Figure size 432x288 with 1 Axes>"
      ]
     },
     "metadata": {
      "needs_background": "light"
     },
     "output_type": "display_data"
    }
   ],
   "source": [
    "\n",
    "X1 = np.random.multivariate_normal(mean[0],cov[0],class_sizes[0]).T\n",
    "X2 = np.random.multivariate_normal(mean[1],cov[1],class_sizes[1]).T\n",
    "X3= np.random.multivariate_normal(mean[2],cov[2],class_sizes[2]).T\n",
    "X4= np.random.multivariate_normal(mean[3],cov[3],class_sizes[3]).T\n",
    "Y1 = np.repeat(1,class_sizes[0]).astype(int)\n",
    "Y2 = np.repeat(2,class_sizes[1]).astype(int)\n",
    "Y3 = np.repeat(3,class_sizes[2]).astype(int)\n",
    "Y4 = np.repeat(4,class_sizes[3]).astype(int)\n",
    "a = np.array(list(zip(X1[0],X1[1],Y1)))\n",
    "b= np.array(list(zip(X2[0],X2[1],Y2)))\n",
    "c= np.array(list(zip(X3[0],X3[1],Y3)))\n",
    "d= np.array(list(zip(X4[0],X4[1],Y4)))\n",
    "\n",
    "data = np.concatenate((a,b,c,d))\n",
    "\n",
    "\n",
    "plt.plot(X1[0],X1[1], '.')\n",
    "\n",
    "plt.plot(X2[0], X2[1], '.')\n",
    "\n",
    "plt.plot(X3[0],X3[1], '.')\n",
    "\n",
    "plt.plot(X4[0], X4[1], '.')\n",
    "\n",
    "plt.show()"
   ]
  },
  {
   "cell_type": "code",
   "execution_count": 288,
   "metadata": {},
   "outputs": [],
   "source": [
    "np.savetxt(\"hw01_data_set.csv\", data, fmt = \"%f,%f,%d\") "
   ]
  },
  {
   "cell_type": "code",
   "execution_count": 289,
   "metadata": {},
   "outputs": [],
   "source": [
    "data_set = np.genfromtxt(\"hw01_data_set.csv\", delimiter = \",\")"
   ]
  },
  {
   "cell_type": "code",
   "execution_count": 290,
   "metadata": {},
   "outputs": [],
   "source": [
    "x = data_set[:,:2]\n",
    "y = data_set[:,2].astype(int)\n",
    "K = np.max(y)\n",
    "N = data_set.shape[0]"
   ]
  },
  {
   "cell_type": "code",
   "execution_count": 291,
   "metadata": {},
   "outputs": [
    {
     "name": "stdout",
     "output_type": "stream",
     "text": [
      "[[[ 0.38769524  4.62207818]]\n",
      "\n",
      " [[-4.56531806 -1.12265826]]\n",
      "\n",
      " [[ 4.42863107 -0.892582  ]]\n",
      "\n",
      " [[ 0.0650379  -3.92161042]]]\n"
     ]
    }
   ],
   "source": [
    "sample_means = np.array([np.mean(x[y == (c + 1)],axis = 0,keepdims = True) for c in range(K)])\n",
    "print(sample_means)"
   ]
  },
  {
   "cell_type": "code",
   "execution_count": 292,
   "metadata": {},
   "outputs": [
    {
     "name": "stdout",
     "output_type": "stream",
     "text": [
      "[[[ 3.34768671 -0.10446251]\n",
      "  [-0.10446251  1.2489653 ]]\n",
      "\n",
      " [[ 1.4964771   1.07337708]\n",
      "  [ 1.07337708  1.33266465]]\n",
      "\n",
      " [[ 1.28398474 -0.81921942]\n",
      "  [-0.81921942  1.21355746]]\n",
      "\n",
      " [[ 1.42888135 -0.15754449]\n",
      "  [-0.15754449  2.82210942]]]\n"
     ]
    }
   ],
   "source": [
    "sample_covariances = np.array([np.dot((x[y == (c + 1)] - sample_means[c]).T,(x[y == (c + 1)] - sample_means[c]))/class_sizes[c] for c in range(K)])\n",
    "print(sample_covariances)"
   ]
  },
  {
   "cell_type": "code",
   "execution_count": 293,
   "metadata": {},
   "outputs": [
    {
     "name": "stdout",
     "output_type": "stream",
     "text": [
      "[0.21, 0.29, 0.27, 0.23]\n"
     ]
    }
   ],
   "source": [
    "class_priors = [np.mean(y == (c + 1)) for c in range(K)]\n",
    "print(class_priors)"
   ]
  },
  {
   "cell_type": "code",
   "execution_count": 294,
   "metadata": {},
   "outputs": [],
   "source": [
    "\n",
    "# score function for single x\n",
    "def score_for_x(x,class_means,class_covariances,class_priors):\n",
    "    scores = [] \n",
    "    for c in range(len(class_priors)):\n",
    "        W = -0.5*lin.pinv(sample_covariances[c])\n",
    "        w = np.dot(lin.pinv(sample_covariances[c]),class_means[c].T)\n",
    "        wi = -0.5*np.dot(class_means[c],w) -0.5*np.log(lin.det(sample_covariances[c])) + np.log(class_priors[c])\n",
    "        score = np.dot(np.dot(x.T,W),x) + np.dot(w.T,x) + wi\n",
    "        scores.append(np.squeeze(score))\n",
    "                                                         \n",
    "                                                         \n",
    "    return np.array(scores)                              \n",
    "#score function for matrix X                        \n",
    "def score_for_X(X,class_means,class_covariances,class_priors):\n",
    "    scores = []\n",
    "    for x in X:\n",
    "        scores.append(np.squeeze(score_for_x(x,class_means,class_covariances,class_priors)))\n",
    "        \n",
    "    \n",
    "    return np.array(scores)    \n",
    "\n",
    "\n",
    "\n",
    "\n",
    "\n"
   ]
  },
  {
   "cell_type": "code",
   "execution_count": 295,
   "metadata": {},
   "outputs": [],
   "source": [
    "scores = score_for_X(x,sample_means,sample_covariances,class_priors)\n",
    "predicted = np.array([np.argmax(i) + 1 for i in scores])\n",
    "results = confusion_matrix(predicted,y)"
   ]
  },
  {
   "cell_type": "code",
   "execution_count": 296,
   "metadata": {},
   "outputs": [
    {
     "name": "stdout",
     "output_type": "stream",
     "text": [
      "y_truth    1    2    3    4\n",
      "y_pred                     \n",
      "1        104    0    2    0\n",
      "2          1  145    0    1\n",
      "3          0    0  132    0\n",
      "4          0    0    1  114\n"
     ]
    }
   ],
   "source": [
    "confusion_matrix = pd.crosstab(predicted,y,rownames = [\"y_pred\"],colnames = [\"y_truth\"])\n",
    "print(confusion_matrix)"
   ]
  },
  {
   "cell_type": "code",
   "execution_count": 297,
   "metadata": {},
   "outputs": [],
   "source": [
    "\n",
    "sepw, sepl = np.meshgrid(np.arange(-10,10,0.05),np.arange(-10,10,0.05))\n",
    "cdf = pd.DataFrame({'sepal width': sepw.reshape(-1),\n",
    "                    'sepal length': sepl.reshape(-1),\n",
    "                    'const':1})\n",
    "\n",
    "contourx = list(zip(cdf[\"sepal width\"].to_numpy(),cdf[\"sepal length\"].to_numpy()))\n",
    "\n",
    "contourx = [np.array([x,y]) for x,y in contourx ]\n",
    "cdf[\"prediction\"] = np.array([np.argmax(i) + 1 for i in score_for_X(contourx,sample_means,sample_covariances,class_priors)])\n",
    "\n",
    "  \n"
   ]
  },
  {
   "cell_type": "code",
   "execution_count": 302,
   "metadata": {},
   "outputs": [
    {
     "data": {
      "image/png": "[encoded data removed]",
      "text/plain": [
       "<Figure size 432x288 with 1 Axes>"
      ]
     },
     "metadata": {
      "needs_background": "light"
     },
     "output_type": "display_data"
    }
   ],
   "source": [
    "ax = plt.contourf(sepw,sepl,cdf[\"prediction\"].values.reshape(sepw.shape),colors = [\"green\",\"magenta\",\"cyan\",\"purple\"])\n",
    "\n",
    "\n",
    "plt.plot(x[(y == 1),0],x[(y == 1),1],'r.',markersize = 10)\n",
    "plt.plot(x[(y == 2),0],x[(y == 2),1],'y.',markersize = 10)\n",
    "plt.plot(x[(y == 3),0],x[(y == 3),1],'b.',markersize = 10)\n",
    "plt.plot(x[(y == 4),0],x[(y == 4),1],'g.',markersize = 10)\n",
    "\n",
    "plt.scatter(x[y != predicted,0],x[y != predicted,1],marker = \"x\",color = \"black\")\n",
    "\n",
    "plt.show()\n",
    "# marked misclassifed points as x in scatter plot, the way instructor did in the lab seem to not work in this case. \n"
   ]
  },
  {
   "cell_type": "code",
   "execution_count": null,
   "metadata": {},
   "outputs": [],
   "source": []
  },
  {
   "cell_type": "code",
   "execution_count": null,
   "metadata": {},
   "outputs": [],
   "source": []
  }
 ],
 "metadata": {
  "kernelspec": {
   "display_name": "Python 3 (ipykernel)",
   "language": "python",
   "name": "python3"
  },
  "language_info": {
   "codemirror_mode": {
    "name": "ipython",
    "version": 3
   },
   "file_extension": ".py",
   "mimetype": "text/x-python",
   "name": "python",
   "nbconvert_exporter": "python",
   "pygments_lexer": "ipython3",
   "version": "3.8.10"
  }
 },
 "nbformat": 4,
 "nbformat_minor": 4
}
