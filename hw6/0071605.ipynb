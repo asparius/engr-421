{
 "cells": [
  {
   "cell_type": "code",
   "execution_count": 143,
   "id": "a023b44e",
   "metadata": {},
   "outputs": [],
   "source": [
    "import cvxopt as cvx\n",
    "import matplotlib.pyplot as plt\n",
    "import numpy as np\n",
    "import pandas as pd\n",
    "import scipy.spatial.distance as dt"
   ]
  },
  {
   "cell_type": "code",
   "execution_count": 144,
   "id": "cb7fe7b9",
   "metadata": {},
   "outputs": [],
   "source": [
    "X = np.genfromtxt(\"hw06_data_set_images.csv\", delimiter = \",\")\n",
    "Y = np.genfromtxt(\"hw06_data_set_labels.csv\",delimiter= \",\")\n",
    "x_train = X[:1000]\n",
    "x_test = X[1000:]\n",
    "y_train = Y[:1000]\n",
    "y_test = Y[1000:]"
   ]
  },
  {
   "cell_type": "code",
   "execution_count": 145,
   "id": "7ed4bb9b",
   "metadata": {},
   "outputs": [
    {
     "data": {
      "text/plain": [
       "(1000,)"
      ]
     },
     "execution_count": 145,
     "metadata": {},
     "output_type": "execute_result"
    }
   ],
   "source": [
    "y_test.shape"
   ]
  },
  {
   "cell_type": "code",
   "execution_count": 146,
   "id": "70c848d5",
   "metadata": {},
   "outputs": [],
   "source": [
    "N_train = x_train.shape[0]\n",
    "N = x_train.shape[1]\n",
    "bin_width = 4\n",
    "left_borders = np.arange(0, 256, bin_width)\n",
    "right_borders = np.arange(0 + bin_width, 256 + bin_width, bin_width)\n",
    "H_train = np.asarray([[np.sum((left_borders[b] <= x) & (x < right_borders[b])) / N for b in range(len(left_borders))] for x in x_train])\n",
    "H_test = np.asarray([[np.sum((left_borders[b] <= x) & (x < right_borders[b])) / N for b in range(len(left_borders))] for x in x_test])"
   ]
  },
  {
   "cell_type": "code",
   "execution_count": 147,
   "id": "3e6474b3",
   "metadata": {},
   "outputs": [
    {
     "name": "stdout",
     "output_type": "stream",
     "text": [
      "[[0.86479592 0.00127551 0.         0.00255102 0.        ]\n",
      " [0.66836735 0.         0.00127551 0.00127551 0.        ]\n",
      " [0.66454082 0.00637755 0.00382653 0.00765306 0.00892857]\n",
      " [0.65816327 0.00765306 0.00892857 0.00127551 0.00382653]\n",
      " [0.5625     0.00255102 0.00255102 0.00127551 0.        ]]\n",
      "[[0.68239796 0.00255102 0.00127551 0.00127551 0.00127551]\n",
      " [0.69770408 0.01658163 0.00510204 0.00382653 0.01020408]\n",
      " [0.73341837 0.02678571 0.01530612 0.00510204 0.00637755]\n",
      " [0.63903061 0.00892857 0.00255102 0.00127551 0.        ]\n",
      " [0.75382653 0.00765306 0.00127551 0.00127551 0.        ]]\n"
     ]
    }
   ],
   "source": [
    "print(H_train[0:5,0:5])\n",
    "print(H_test[0:5,0:5])"
   ]
  },
  {
   "cell_type": "code",
   "execution_count": 148,
   "id": "47a2d708",
   "metadata": {},
   "outputs": [],
   "source": [
    "def hist_kernel(h1,h2):\n",
    "    kernel = np.zeros((h1.shape[0],h1.shape[0]))\n",
    "    for i in range(len(h1)):\n",
    "        for j in range((len(h2))):\n",
    "            kernel[i][j] = np.sum(np.minimum(h1[i],h2[j]))\n",
    "    return kernel "
   ]
  },
  {
   "cell_type": "code",
   "execution_count": 149,
   "id": "4e25efa7",
   "metadata": {},
   "outputs": [],
   "source": [
    "K_train = hist_kernel(H_train,H_train)\n",
    "K_test = hist_kernel(H_test,H_train)"
   ]
  },
  {
   "cell_type": "code",
   "execution_count": 150,
   "id": "7a852807",
   "metadata": {},
   "outputs": [
    {
     "name": "stdout",
     "output_type": "stream",
     "text": [
      "[[1.         0.72321429 0.77040816 0.75382653 0.62755102]\n",
      " [0.72321429 1.         0.73086735 0.78571429 0.68622449]\n",
      " [0.77040816 0.73086735 1.         0.84056122 0.70153061]\n",
      " [0.75382653 0.78571429 0.84056122 1.         0.76403061]\n",
      " [0.62755102 0.68622449 0.70153061 0.76403061 1.        ]]\n",
      "[[0.77806122 0.80867347 0.82142857 0.88647959 0.79209184]\n",
      " [0.79464286 0.76403061 0.84566327 0.86607143 0.77933673]\n",
      " [0.8380102  0.74362245 0.85714286 0.83035714 0.68877551]\n",
      " [0.71556122 0.84438776 0.75       0.83418367 0.75765306]\n",
      " [0.84438776 0.76785714 0.82397959 0.84183673 0.73469388]]\n"
     ]
    }
   ],
   "source": [
    "print(K_train[0:5,0:5])\n",
    "print(K_test[0:5,0:5])"
   ]
  },
  {
   "cell_type": "code",
   "execution_count": 151,
   "id": "f09ac08e",
   "metadata": {},
   "outputs": [
    {
     "name": "stdout",
     "output_type": "stream",
     "text": [
      "     pcost       dcost       gap    pres   dres\n",
      " 0:  1.0887e+03 -6.1913e+04  1e+05  5e-01  5e-14\n",
      " 1:  1.2396e+03 -1.1654e+04  1e+04  2e-14  6e-14\n",
      " 2: -4.1568e+02 -3.9854e+03  4e+03  5e-14  6e-14\n",
      " 3: -8.3426e+02 -2.5760e+03  2e+03  8e-14  7e-14\n",
      " 4: -1.0562e+03 -1.7960e+03  7e+02  4e-14  8e-14\n",
      " 5: -1.2018e+03 -1.4485e+03  2e+02  6e-14  9e-14\n",
      " 6: -1.2586e+03 -1.3270e+03  7e+01  1e-14  1e-13\n",
      " 7: -1.2782e+03 -1.2901e+03  1e+01  1e-14  1e-13\n",
      " 8: -1.2826e+03 -1.2831e+03  5e-01  2e-14  1e-13\n",
      " 9: -1.2828e+03 -1.2828e+03  1e-02  8e-14  1e-13\n",
      "10: -1.2828e+03 -1.2828e+03  2e-04  4e-15  1e-13\n",
      "Optimal solution found.\n"
     ]
    }
   ],
   "source": [
    "\n",
    "yyK = np.matmul(y_train[:,None], y_train[None,:]) * K_train\n",
    "\n",
    "# set learning parameters\n",
    "C = 10\n",
    "epsilon = 0.001\n",
    "\n",
    "P = cvx.matrix(yyK)\n",
    "q = cvx.matrix(-np.ones((N_train, 1)))\n",
    "G = cvx.matrix(np.vstack((-np.eye(N_train), np.eye(N_train))))\n",
    "h = cvx.matrix(np.vstack((np.zeros((N_train, 1)), C * np.ones((N_train, 1)))))\n",
    "A = cvx.matrix(1.0 * y_train[None,:])\n",
    "b = cvx.matrix(0.0)\n",
    "                    \n",
    "# use cvxopt library to solve QP problems\n",
    "result = cvx.solvers.qp(P, q, G, h, A, b)\n",
    "alpha = np.reshape(result[\"x\"], N_train)\n",
    "alpha[alpha < C * epsilon] = 0\n",
    "alpha[alpha > C * (1 - epsilon)] = C\n",
    "\n",
    "# find bias parameter\n",
    "support_indices, = np.where(alpha != 0)\n",
    "active_indices, = np.where(np.logical_and(alpha != 0, alpha < C))\n",
    "w0 = np.mean(y_train[active_indices] * (1 - np.matmul(yyK[np.ix_(active_indices, support_indices)], alpha[support_indices])))"
   ]
  },
  {
   "cell_type": "code",
   "execution_count": 152,
   "id": "5d320be2",
   "metadata": {},
   "outputs": [],
   "source": [
    "def svm(C,K_train,K_test,y_train,y_test):\n",
    "    \n",
    "   \n",
    "    yyK = np.matmul(y_train[:,None], y_train[None,:]) * K_train\n",
    "\n",
    "    # set learning parameters\n",
    "    \n",
    "    epsilon = 0.001\n",
    "\n",
    "    P = cvx.matrix(yyK)\n",
    "    q = cvx.matrix(-np.ones((N_train, 1)))\n",
    "    G = cvx.matrix(np.vstack((-np.eye(N_train), np.eye(N_train))))\n",
    "    h = cvx.matrix(np.vstack((np.zeros((N_train, 1)), C * np.ones((N_train, 1)))))\n",
    "    A = cvx.matrix(1.0 * y_train[None,:])\n",
    "    b = cvx.matrix(0.0)\n",
    "                    \n",
    "    # use cvxopt library to solve QP problems\n",
    "    result = cvx.solvers.qp(P, q, G, h, A, b)\n",
    "    alpha = np.reshape(result[\"x\"], N_train)\n",
    "    alpha[alpha < C * epsilon] = 0\n",
    "    alpha[alpha > C * (1 - epsilon)] = C\n",
    "\n",
    "    # find bias parameter\n",
    "    support_indices, = np.where(alpha != 0)\n",
    "    active_indices, = np.where(np.logical_and(alpha != 0, alpha < C))\n",
    "    w0 = np.mean(y_train[active_indices] * (1 - np.matmul(yyK[np.ix_(active_indices, support_indices)], alpha[support_indices])))\n",
    "    f_predicted_train = np.matmul(K_train, y_train[:,None] * alpha[:,None]) + w0\n",
    "    y_predicted_train = 2 * (f_predicted_train > 0.0) - 1\n",
    "    f_predicted_test = np.matmul(K_test, y_train[:,None] * alpha[:,None]) + w0\n",
    "    y_predicted_test = 2 * (f_predicted_test > 0.0) - 1\n",
    "    y_pred_train = np.concatenate(y_predicted_train)\n",
    "    y_pred_test = np.concatenate(y_predicted_test)\n",
    "    acc_train = (y_train == y_pred_train).sum()/len(y_train)\n",
    "    acc_test = (y_test == y_pred_test).sum() / len(y_test)\n",
    "    \n",
    "    return y_predicted_train,y_predicted_test,acc_train,acc_test"
   ]
  },
  {
   "cell_type": "code",
   "execution_count": 153,
   "id": "bbc92328",
   "metadata": {},
   "outputs": [
    {
     "name": "stdout",
     "output_type": "stream",
     "text": [
      "     pcost       dcost       gap    pres   dres\n",
      " 0:  1.0887e+03 -6.1913e+04  1e+05  5e-01  5e-14\n",
      " 1:  1.2396e+03 -1.1654e+04  1e+04  2e-14  6e-14\n",
      " 2: -4.1568e+02 -3.9854e+03  4e+03  5e-14  6e-14\n",
      " 3: -8.3426e+02 -2.5760e+03  2e+03  8e-14  7e-14\n",
      " 4: -1.0562e+03 -1.7960e+03  7e+02  4e-14  8e-14\n",
      " 5: -1.2018e+03 -1.4485e+03  2e+02  6e-14  9e-14\n",
      " 6: -1.2586e+03 -1.3270e+03  7e+01  1e-14  1e-13\n",
      " 7: -1.2782e+03 -1.2901e+03  1e+01  1e-14  1e-13\n",
      " 8: -1.2826e+03 -1.2831e+03  5e-01  2e-14  1e-13\n",
      " 9: -1.2828e+03 -1.2828e+03  1e-02  8e-14  1e-13\n",
      "10: -1.2828e+03 -1.2828e+03  2e-04  4e-15  1e-13\n",
      "Optimal solution found.\n"
     ]
    }
   ],
   "source": [
    "y_predicted_train,y_predicted_test,_,_ = svm(10,K_train,K_test,y_train,y_test)\n"
   ]
  },
  {
   "cell_type": "code",
   "execution_count": 154,
   "id": "2d9296da",
   "metadata": {},
   "outputs": [
    {
     "name": "stdout",
     "output_type": "stream",
     "text": [
      "y_train      -1.0   1.0\n",
      "y_predicted            \n",
      "-1            484     9\n",
      " 1              9   498\n",
      "y_test       -1.0   1.0\n",
      "y_predicted            \n",
      "-1            466    25\n",
      " 1             37   472\n"
     ]
    }
   ],
   "source": [
    "confusion_matrix_train = pd.crosstab(np.reshape(y_predicted_train, N_train), y_train,\n",
    "                                     rownames = [\"y_predicted\"], colnames = [\"y_train\"])\n",
    "\n",
    "confusion_matrix_test = pd.crosstab(np.reshape(y_predicted_test, N_train), y_test,\n",
    "                                     rownames = [\"y_predicted\"], colnames = [\"y_test\"])\n",
    "print(confusion_matrix_train)\n",
    "print(confusion_matrix_test)"
   ]
  },
  {
   "cell_type": "code",
   "execution_count": 159,
   "id": "25e9ec10",
   "metadata": {},
   "outputs": [
    {
     "name": "stdout",
     "output_type": "stream",
     "text": [
      "[-1.  -0.5  0.   0.5  1.   1.5  2.   2.5  3. ]\n",
      "     pcost       dcost       gap    pres   dres\n",
      " 0: -1.8751e+02 -2.4438e+02  7e+03  3e+01  5e-15\n",
      " 1: -6.2127e+01 -2.2353e+02  5e+02  1e+00  4e-15\n",
      " 2: -4.8341e+01 -1.2857e+02  8e+01  8e-16  3e-15\n",
      " 3: -5.3798e+01 -6.6369e+01  1e+01  3e-15  2e-15\n",
      " 4: -5.7212e+01 -6.1182e+01  4e+00  8e-16  2e-15\n",
      " 5: -5.8516e+01 -5.9343e+01  8e-01  3e-15  2e-15\n",
      " 6: -5.8814e+01 -5.8991e+01  2e-01  5e-16  2e-15\n",
      " 7: -5.8883e+01 -5.8910e+01  3e-02  3e-15  2e-15\n",
      " 8: -5.8895e+01 -5.8897e+01  2e-03  4e-15  2e-15\n",
      " 9: -5.8896e+01 -5.8896e+01  3e-05  7e-16  2e-15\n",
      "Optimal solution found.\n",
      "     pcost       dcost       gap    pres   dres\n",
      " 0: -2.1663e+02 -7.2291e+02  8e+03  8e+00  6e-15\n",
      " 1: -1.1031e+02 -6.1711e+02  7e+02  3e-01  5e-15\n",
      " 2: -1.1254e+02 -1.8088e+02  7e+01  1e-02  3e-15\n",
      " 3: -1.2553e+02 -1.5831e+02  3e+01  5e-03  3e-15\n",
      " 4: -1.3428e+02 -1.4269e+02  9e+00  1e-03  4e-15\n",
      " 5: -1.3682e+02 -1.3946e+02  3e+00  2e-04  4e-15\n",
      " 6: -1.3789e+02 -1.3812e+02  2e-01  3e-06  5e-15\n",
      " 7: -1.3799e+02 -1.3800e+02  8e-03  8e-08  5e-15\n",
      " 8: -1.3799e+02 -1.3799e+02  2e-04  2e-09  5e-15\n",
      " 9: -1.3799e+02 -1.3799e+02  6e-06  4e-11  5e-15\n",
      "Optimal solution found.\n",
      "     pcost       dcost       gap    pres   dres\n",
      " 0: -2.9195e+02 -2.3170e+03  1e+04  3e+00  8e-15\n",
      " 1: -2.0833e+02 -1.4682e+03  2e+03  1e-01  1e-14\n",
      " 2: -2.3783e+02 -5.1959e+02  3e+02  2e-02  8e-15\n",
      " 3: -2.7877e+02 -3.6235e+02  9e+01  5e-03  9e-15\n",
      " 4: -2.9498e+02 -3.3365e+02  4e+01  2e-03  1e-14\n",
      " 5: -3.0553e+02 -3.1419e+02  9e+00  3e-04  1e-14\n",
      " 6: -3.0853e+02 -3.0943e+02  9e-01  1e-05  1e-14\n",
      " 7: -3.0888e+02 -3.0894e+02  6e-02  8e-07  1e-14\n",
      " 8: -3.0891e+02 -3.0891e+02  2e-03  2e-08  1e-14\n",
      " 9: -3.0891e+02 -3.0891e+02  8e-05  6e-10  1e-14\n",
      "Optimal solution found.\n",
      "     pcost       dcost       gap    pres   dres\n",
      " 0: -3.6264e+02 -9.4514e+03  2e+04  9e-01  2e-14\n",
      " 1: -2.2721e+02 -3.1424e+03  3e+03  2e-14  2e-14\n",
      " 2: -4.4950e+02 -1.2403e+03  8e+02  2e-14  2e-14\n",
      " 3: -5.5393e+02 -8.6102e+02  3e+02  5e-15  3e-14\n",
      " 4: -6.0205e+02 -7.4754e+02  1e+02  6e-16  3e-14\n",
      " 5: -6.3137e+02 -6.7923e+02  5e+01  3e-15  3e-14\n",
      " 6: -6.4327e+02 -6.5534e+02  1e+01  4e-15  4e-14\n",
      " 7: -6.4710e+02 -6.4838e+02  1e+00  1e-14  4e-14\n",
      " 8: -6.4763e+02 -6.4767e+02  4e-02  4e-14  4e-14\n",
      " 9: -6.4765e+02 -6.4765e+02  1e-03  3e-14  4e-14\n",
      "10: -6.4765e+02 -6.4765e+02  4e-05  3e-14  4e-14\n",
      "Optimal solution found.\n",
      "     pcost       dcost       gap    pres   dres\n",
      " 0:  1.0887e+03 -6.1913e+04  1e+05  5e-01  5e-14\n",
      " 1:  1.2396e+03 -1.1654e+04  1e+04  2e-14  6e-14\n",
      " 2: -4.1568e+02 -3.9854e+03  4e+03  5e-14  6e-14\n",
      " 3: -8.3426e+02 -2.5760e+03  2e+03  8e-14  7e-14\n",
      " 4: -1.0562e+03 -1.7960e+03  7e+02  4e-14  8e-14\n",
      " 5: -1.2018e+03 -1.4485e+03  2e+02  6e-14  9e-14\n",
      " 6: -1.2586e+03 -1.3270e+03  7e+01  1e-14  1e-13\n",
      " 7: -1.2782e+03 -1.2901e+03  1e+01  1e-14  1e-13\n",
      " 8: -1.2826e+03 -1.2831e+03  5e-01  2e-14  1e-13\n",
      " 9: -1.2828e+03 -1.2828e+03  1e-02  8e-14  1e-13\n",
      "10: -1.2828e+03 -1.2828e+03  2e-04  4e-15  1e-13\n",
      "Optimal solution found.\n",
      "     pcost       dcost       gap    pres   dres\n",
      " 0:  2.2427e+04 -5.1656e+05  1e+06  4e-01  1e-13\n",
      " 1:  1.8996e+04 -7.1786e+04  9e+04  4e-03  2e-13\n",
      " 2:  2.9639e+03 -1.8354e+04  2e+04  5e-04  2e-13\n",
      " 3: -7.2446e+02 -6.1810e+03  5e+03  4e-05  2e-13\n",
      " 4: -1.4993e+03 -3.5173e+03  2e+03  7e-06  2e-13\n",
      " 5: -1.8750e+03 -2.5457e+03  7e+02  5e-07  2e-13\n",
      " 6: -2.0021e+03 -2.2236e+03  2e+02  4e-14  2e-13\n",
      " 7: -2.0578e+03 -2.0873e+03  3e+01  6e-14  2e-13\n",
      " 8: -2.0671e+03 -2.0686e+03  2e+00  1e-13  3e-13\n",
      " 9: -2.0676e+03 -2.0677e+03  5e-02  4e-14  3e-13\n",
      "10: -2.0676e+03 -2.0676e+03  1e-03  4e-14  3e-13\n",
      "Optimal solution found.\n",
      "     pcost       dcost       gap    pres   dres\n",
      " 0:  2.5739e+05 -4.8418e+06  9e+06  4e-01  4e-13\n",
      " 1:  2.0578e+05 -6.4991e+05  9e+05  9e-03  5e-13\n",
      " 2:  4.8818e+04 -1.5762e+05  2e+05  1e-03  5e-13\n",
      " 3:  1.1116e+04 -5.4314e+04  7e+04  1e-04  4e-13\n",
      " 4:  2.2378e+03 -2.2886e+04  3e+04  1e-05  3e-13\n",
      " 5: -6.1288e+02 -9.7518e+03  9e+03  3e-13  3e-13\n",
      " 6: -1.5849e+03 -4.4760e+03  3e+03  7e-15  2e-13\n",
      " 7: -1.9770e+03 -3.0466e+03  1e+03  4e-13  2e-13\n",
      " 8: -2.1693e+03 -2.4629e+03  3e+02  4e-13  3e-13\n",
      " 9: -2.2408e+03 -2.2803e+03  4e+01  3e-13  3e-13\n",
      "10: -2.2531e+03 -2.2544e+03  1e+00  4e-15  3e-13\n",
      "11: -2.2536e+03 -2.2536e+03  3e-02  3e-14  3e-13\n",
      "12: -2.2536e+03 -2.2536e+03  6e-04  2e-13  3e-13\n",
      "Optimal solution found.\n",
      "     pcost       dcost       gap    pres   dres\n",
      " 0:  2.6753e+06 -4.7394e+07  9e+07  3e-01  1e-12\n",
      " 1:  2.1024e+06 -6.2790e+06  9e+06  1e-02  2e-12\n",
      " 2:  5.5668e+05 -1.5726e+06  2e+06  2e-03  1e-12\n",
      " 3:  1.6775e+05 -5.6539e+05  7e+05  2e-04  1e-12\n",
      " 4:  5.6989e+04 -2.3425e+05  3e+05  3e-05  8e-13\n",
      " 5:  2.2605e+04 -1.1536e+05  1e+05  6e-06  6e-13\n",
      " 6:  6.1357e+03 -4.1607e+04  5e+04  9e-13  5e-13\n",
      " 7: -6.9081e+02 -5.6641e+03  5e+03  3e-13  3e-13\n",
      " 8: -1.5711e+03 -3.5895e+03  2e+03  7e-14  2e-13\n",
      " 9: -1.9642e+03 -2.8168e+03  9e+02  3e-13  2e-13\n",
      "10: -2.1616e+03 -2.4565e+03  3e+02  2e-13  3e-13\n",
      "11: -2.2401e+03 -2.2797e+03  4e+01  1e-13  3e-13\n",
      "12: -2.2531e+03 -2.2544e+03  1e+00  7e-14  3e-13\n",
      "13: -2.2536e+03 -2.2536e+03  4e-02  6e-13  3e-13\n",
      "14: -2.2536e+03 -2.2536e+03  7e-04  6e-13  3e-13\n",
      "Optimal solution found.\n",
      "     pcost       dcost       gap    pres   dres\n",
      " 0:  2.7070e+07 -4.7071e+08  9e+08  3e-01  5e-12\n",
      " 1:  2.1160e+07 -6.2089e+07  9e+07  1e-02  3e-11\n",
      " 2:  5.7745e+06 -1.5709e+07  2e+07  2e-03  7e-12\n",
      " 3:  1.8430e+06 -5.7124e+06  8e+06  3e-04  4e-12\n",
      " 4:  6.5556e+05 -2.3681e+06  3e+06  4e-05  3e-12\n",
      " 5:  2.9164e+05 -1.1938e+06  1e+06  9e-06  2e-12\n",
      " 6:  8.7209e+04 -3.5657e+05  4e+05  2e-12  1e-12\n",
      " 7:  1.1272e+04 -2.9885e+04  4e+04  1e-12  8e-13\n",
      " 8: -2.5169e+02 -5.1052e+03  5e+03  2e-13  4e-13\n",
      " 9: -1.4609e+03 -3.2539e+03  2e+03  2e-13  2e-13\n",
      "10: -1.9373e+03 -2.7402e+03  8e+02  1e-13  2e-13\n",
      "11: -2.1511e+03 -2.4735e+03  3e+02  3e-13  2e-13\n",
      "12: -2.2395e+03 -2.2804e+03  4e+01  4e-13  3e-13\n",
      "13: -2.2530e+03 -2.2545e+03  1e+00  8e-14  3e-13\n",
      "14: -2.2536e+03 -2.2536e+03  4e-02  1e-13  3e-13\n",
      "15: -2.2536e+03 -2.2536e+03  8e-04  3e-13  3e-13\n",
      "Optimal solution found.\n"
     ]
    }
   ],
   "source": [
    "train_error = {}\n",
    "test_error = {}\n",
    "C = np.arange(-1,3.5,0.5)\n",
    "print(C)\n",
    "\n",
    "for i in C:\n",
    "    _,_,train,test = svm(10 ** i,K_train,K_test,y_train,y_test)\n",
    "\n",
    "    train_error[i] = train\n",
    "    test_error[i] = test"
   ]
  },
  {
   "cell_type": "code",
   "execution_count": 163,
   "id": "440f0630",
   "metadata": {},
   "outputs": [
    {
     "data": {
      "image/png": "[encoded data removed]",
      "text/plain": [
       "<Figure size 720x432 with 1 Axes>"
      ]
     },
     "metadata": {
      "needs_background": "light"
     },
     "output_type": "display_data"
    }
   ],
   "source": [
    "\n",
    "plt.figure(figsize = (10,6))\n",
    "plt.plot(train_error.keys(),train_error.values(),\".b-\",label = \"training\")\n",
    "plt.plot(test_error.keys(),test_error.values(),\".r-\",label = \"test\")\n",
    "plt.xlabel(\"Regularization Parameter(log(C))\")\n",
    "plt.ylabel(\"Accuracy\")\n",
    "plt.legend(frameon= True)\n",
    "plt.show()\n"
   ]
  },
  {
   "cell_type": "code",
   "execution_count": null,
   "id": "8a31700a",
   "metadata": {},
   "outputs": [],
   "source": []
  },
  {
   "cell_type": "code",
   "execution_count": null,
   "id": "710f3a7b",
   "metadata": {},
   "outputs": [],
   "source": []
  }
 ],
 "metadata": {
  "kernelspec": {
   "display_name": "Python 3 (ipykernel)",
   "language": "python",
   "name": "python3"
  },
  "language_info": {
   "codemirror_mode": {
    "name": "ipython",
    "version": 3
   },
   "file_extension": ".py",
   "mimetype": "text/x-python",
   "name": "python",
   "nbconvert_exporter": "python",
   "pygments_lexer": "ipython3",
   "version": "3.8.10"
  }
 },
 "nbformat": 4,
 "nbformat_minor": 5
}
