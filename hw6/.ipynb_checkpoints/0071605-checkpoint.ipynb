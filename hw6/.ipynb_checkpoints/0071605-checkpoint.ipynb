{
 "cells": [
  {
   "cell_type": "code",
   "execution_count": 127,
   "id": "a023b44e",
   "metadata": {},
   "outputs": [],
   "source": [
    "import cvxopt as cvx\n",
    "import matplotlib.pyplot as plt\n",
    "import numpy as np\n",
    "import pandas as pd\n",
    "import scipy.spatial.distance as dt"
   ]
  },
  {
   "cell_type": "code",
   "execution_count": 128,
   "id": "cb7fe7b9",
   "metadata": {},
   "outputs": [],
   "source": [
    "X = np.genfromtxt(\"hw06_data_set_images.csv\", delimiter = \",\")\n",
    "Y = np.genfromtxt(\"hw06_data_set_labels.csv\",delimiter= \",\")\n",
    "x_train = X[:1000]\n",
    "x_test = X[1000:]\n",
    "y_train = Y[:1000]\n",
    "y_test = Y[1000:]"
   ]
  },
  {
   "cell_type": "code",
   "execution_count": 129,
   "id": "70c848d5",
   "metadata": {},
   "outputs": [],
   "source": [
    "N_train = x_train.shape[0]\n",
    "N = x_train.shape[1]\n",
    "bin_width = 4\n",
    "left_borders = np.arange(0, 256, bin_width)\n",
    "right_borders = np.arange(0 + bin_width, 256 + bin_width, bin_width)\n",
    "H_train = np.asarray([[np.sum((left_borders[b] <= x) & (x < right_borders[b])) / N_train for b in range(len(left_borders))] for x in x_train])\n",
    "H_test = np.asarray([[np.sum((left_borders[b] <= x) & (x < right_borders[b])) / N for b in range(len(left_borders))] for x in x_test])"
   ]
  },
  {
   "cell_type": "code",
   "execution_count": 130,
   "id": "3e6474b3",
   "metadata": {},
   "outputs": [
    {
     "name": "stdout",
     "output_type": "stream",
     "text": [
      "[[0.678 0.001 0.    0.002 0.   ]\n",
      " [0.524 0.    0.001 0.001 0.   ]\n",
      " [0.521 0.005 0.003 0.006 0.007]\n",
      " [0.516 0.006 0.007 0.001 0.003]\n",
      " [0.441 0.002 0.002 0.001 0.   ]]\n",
      "[[0.68239796 0.00255102 0.00127551 0.00127551 0.00127551]\n",
      " [0.69770408 0.01658163 0.00510204 0.00382653 0.01020408]\n",
      " [0.73341837 0.02678571 0.01530612 0.00510204 0.00637755]\n",
      " [0.63903061 0.00892857 0.00255102 0.00127551 0.        ]\n",
      " [0.75382653 0.00765306 0.00127551 0.00127551 0.        ]]\n"
     ]
    }
   ],
   "source": [
    "print(H_train[0:5,0:5])\n",
    "print(H_test[0:5,0:5])"
   ]
  },
  {
   "cell_type": "code",
   "execution_count": 131,
   "id": "47a2d708",
   "metadata": {},
   "outputs": [],
   "source": [
    "def hist_kernel(h1,h2):\n",
    "    kernel = np.zeros((h1.shape[0],h1.shape[0]))\n",
    "    for i in range(len(h1)):\n",
    "        for j in range((len(h2))):\n",
    "            kernel[i][j] = np.sum(np.minimum(h1[i],h2[j]))\n",
    "    return kernel "
   ]
  },
  {
   "cell_type": "code",
   "execution_count": 132,
   "id": "4e25efa7",
   "metadata": {},
   "outputs": [],
   "source": [
    "K_train = hist_kernel(H_train,H_train)\n",
    "K_test = hist_kernel(H_test,H_train)"
   ]
  },
  {
   "cell_type": "code",
   "execution_count": 133,
   "id": "7a852807",
   "metadata": {},
   "outputs": [
    {
     "name": "stdout",
     "output_type": "stream",
     "text": [
      "[[0.784 0.567 0.604 0.591 0.492]\n",
      " [0.567 0.784 0.573 0.616 0.538]\n",
      " [0.604 0.573 0.784 0.659 0.55 ]\n",
      " [0.591 0.616 0.659 0.784 0.599]\n",
      " [0.492 0.538 0.55  0.599 0.784]]\n",
      "[[0.75813265 0.6457449  0.6622551  0.70960204 0.65037755]\n",
      " [0.75785714 0.60203061 0.68466327 0.6952551  0.64809184]\n",
      " [0.76165306 0.58603061 0.69631633 0.67045918 0.55763265]\n",
      " [0.70371429 0.70676531 0.62222449 0.6797449  0.6047449 ]\n",
      " [0.75440816 0.60861224 0.66405102 0.68073469 0.60317347]]\n"
     ]
    }
   ],
   "source": [
    "print(K_train[0:5,0:5])\n",
    "print(K_test[0:5,0:5])"
   ]
  },
  {
   "cell_type": "code",
   "execution_count": 134,
   "id": "f09ac08e",
   "metadata": {},
   "outputs": [
    {
     "name": "stdout",
     "output_type": "stream",
     "text": [
      "     pcost       dcost       gap    pres   dres\n",
      " 0:  1.1337e+03 -6.0700e+04  1e+05  5e-01  4e-14\n",
      " 1:  1.0359e+03 -1.0640e+04  1e+04  2e-14  5e-14\n",
      " 2: -5.9104e+02 -3.7420e+03  3e+03  7e-14  5e-14\n",
      " 3: -1.0365e+03 -2.4897e+03  1e+03  7e-14  6e-14\n",
      " 4: -1.2421e+03 -1.8191e+03  6e+02  5e-14  7e-14\n",
      " 5: -1.3466e+03 -1.6158e+03  3e+02  8e-14  7e-14\n",
      " 6: -1.4020e+03 -1.4866e+03  8e+01  9e-16  7e-14\n",
      " 7: -1.4205e+03 -1.4461e+03  3e+01  2e-13  8e-14\n",
      " 8: -1.4296e+03 -1.4313e+03  2e+00  3e-13  8e-14\n",
      " 9: -1.4303e+03 -1.4304e+03  1e-01  7e-14  8e-14\n",
      "10: -1.4303e+03 -1.4303e+03  2e-03  8e-14  8e-14\n",
      "11: -1.4303e+03 -1.4303e+03  7e-05  3e-15  9e-14\n",
      "Optimal solution found.\n"
     ]
    }
   ],
   "source": [
    "# calculate Gaussian kernel\n",
    "s = 1\n",
    "K_train = hist_kernel(H_train, H_train)\n",
    "yyK = np.matmul(y_train[:,None], y_train[None,:]) * K_train\n",
    "\n",
    "# set learning parameters\n",
    "C = 10\n",
    "epsilon = 0.001\n",
    "\n",
    "P = cvx.matrix(yyK)\n",
    "q = cvx.matrix(-np.ones((N_train, 1)))\n",
    "G = cvx.matrix(np.vstack((-np.eye(N_train), np.eye(N_train))))\n",
    "h = cvx.matrix(np.vstack((np.zeros((N_train, 1)), C * np.ones((N_train, 1)))))\n",
    "A = cvx.matrix(1.0 * y_train[None,:])\n",
    "b = cvx.matrix(0.0)\n",
    "                    \n",
    "# use cvxopt library to solve QP problems\n",
    "result = cvx.solvers.qp(P, q, G, h, A, b)\n",
    "alpha = np.reshape(result[\"x\"], N_train)\n",
    "alpha[alpha < C * epsilon] = 0\n",
    "alpha[alpha > C * (1 - epsilon)] = C\n",
    "\n",
    "# find bias parameter\n",
    "support_indices, = np.where(alpha != 0)\n",
    "active_indices, = np.where(np.logical_and(alpha != 0, alpha < C))\n",
    "w0 = np.mean(y_train[active_indices] * (1 - np.matmul(yyK[np.ix_(active_indices, support_indices)], alpha[support_indices])))"
   ]
  },
  {
   "cell_type": "code",
   "execution_count": 139,
   "id": "fb0802b0",
   "metadata": {},
   "outputs": [
    {
     "name": "stdout",
     "output_type": "stream",
     "text": [
      "y_train      -1.0   1.0\n",
      "y_predicted            \n",
      "-1            484    10\n",
      " 1              9   497\n"
     ]
    }
   ],
   "source": [
    "# calculate predictions on training samples\n",
    "f_predicted = np.matmul(K_train, y_train[:,None] * alpha[:,None]) + w0\n",
    "\n",
    "# calculate confusion matrix\n",
    "y_predicted = 2 * (f_predicted > 0.0) - 1\n",
    "confusion_matrix = pd.crosstab(np.reshape(y_predicted, N_train), y_train,\n",
    "                               rownames = [\"y_predicted\"], colnames = [\"y_train\"])\n",
    "print(confusion_matrix)"
   ]
  },
  {
   "cell_type": "code",
   "execution_count": 142,
   "id": "36d92bfa",
   "metadata": {},
   "outputs": [
    {
     "name": "stdout",
     "output_type": "stream",
     "text": [
      "y_train      -1.0   1.0\n",
      "y_predicted            \n",
      "-1            484    10\n",
      " 1              9   497\n"
     ]
    }
   ],
   "source": [
    "# calculate predictions on training samples\n",
    "f_predicted = np.matmul(K_train, y_train[:,None] * alpha[:,None]) + w0\n",
    "\n",
    "# calculate confusion matrix\n",
    "y_predicted = 2 * (f_predicted > 0.0) - 1\n",
    "confusion_matrix = pd.crosstab(np.reshape(y_predicted, N_train), y_train,\n",
    "                               rownames = [\"y_predicted\"], colnames = [\"y_train\"])\n",
    "print(confusion_matrix)"
   ]
  },
  {
   "cell_type": "code",
   "execution_count": null,
   "id": "25e9ec10",
   "metadata": {},
   "outputs": [],
   "source": []
  },
  {
   "cell_type": "code",
   "execution_count": null,
   "id": "440f0630",
   "metadata": {},
   "outputs": [],
   "source": []
  }
 ],
 "metadata": {
  "kernelspec": {
   "display_name": "Python 3",
   "language": "python",
   "name": "python3"
  },
  "language_info": {
   "codemirror_mode": {
    "name": "ipython",
    "version": 3
   },
   "file_extension": ".py",
   "mimetype": "text/x-python",
   "name": "python",
   "nbconvert_exporter": "python",
   "pygments_lexer": "ipython3",
   "version": "3.7.13"
  }
 },
 "nbformat": 4,
 "nbformat_minor": 5
}
