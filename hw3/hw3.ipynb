{
 "cells": [
  {
   "cell_type": "code",
   "execution_count": 25,
   "metadata": {},
   "outputs": [],
   "source": [
    "#necessary libraries\n",
    "import numpy as np\n",
    "import pandas as pd\n",
    "import matplotlib.pyplot as plt\n",
    "from functools import reduce\n"
   ]
  },
  {
   "cell_type": "code",
   "execution_count": 26,
   "metadata": {},
   "outputs": [],
   "source": [
    "def onehot_encoder(y):\n",
    "    Y_truth = np.zeros((y.shape[0], np.max(y))).astype(int)\n",
    "    Y_truth[range(y.shape[0]), y - 1] = 1\n",
    "    return Y_truth"
   ]
  },
  {
   "cell_type": "code",
   "execution_count": 27,
   "metadata": {},
   "outputs": [],
   "source": [
    "images= np.loadtxt(\"hw02_data_set_images.csv\",delimiter = \",\") \n",
    "labels = np.loadtxt(\"hw02_data_set_labels.csv\",).astype(int).reshape(195,1)\n",
    "labels = np.squeeze(labels)\n",
    "data = np.array(list(zip(images,labels))) # zipped together for further export\n",
    "\n",
    "# extraction of data training and test sets from data\n",
    "x_training = np.array([images[labels == c + 1][:25] for c in range(5)])\n",
    "x_training = np.concatenate(np.squeeze(x_training))\n",
    "\n",
    "test_x = np.array([images[labels == c + 1][25:] for c in range(5)])\n",
    "test_x = np.concatenate(np.squeeze(test_x))\n",
    "\n",
    "\n",
    "y_training = np.array([labels[labels == c +1][:25] for c in range(5)])\n",
    "y_training = np.concatenate(np.squeeze(y_training))\n",
    "\n",
    "test_y = np.array([labels[labels == c +1][25:] for c in range(5)])\n",
    "test_y = np.concatenate(np.squeeze(test_y))\n",
    "\n",
    "\n",
    "K = np.max(y_training)\n",
    "y_training = onehot_encoder(y_training)\n",
    "\n"
   ]
  },
  {
   "cell_type": "code",
   "execution_count": 28,
   "metadata": {},
   "outputs": [],
   "source": [
    "def sigmoid(W,w0,X):\n",
    "    scores = np.matmul(np.hstack((X, np.ones((X.shape[0], 1)))), np.vstack((W, w0)))\n",
    "    scores = 1/(1 + np.exp(-(scores)))    \n",
    "    return scores\n"
   ]
  },
  {
   "cell_type": "code",
   "execution_count": 29,
   "metadata": {},
   "outputs": [],
   "source": [
    "def predicter(scores):\n",
    "    prediction = []\n",
    "    for i in scores:\n",
    "        prediction.append(np.argmax(i) + 1)\n",
    "    return onehot_encoder(np.array(prediction))\n",
    "    "
   ]
  },
  {
   "cell_type": "code",
   "execution_count": 30,
   "metadata": {},
   "outputs": [],
   "source": [
    "def gradient_W(x,y_truth,y_pred):\n",
    "    dZ = ((y_truth-y_pred) *(1-y_pred) * y_pred)\n",
    "    \n",
    "    return -np.matmul(x.T,dZ)\n",
    "def gradient_w0(y_truth,y_pred):\n",
    "    return np.asarray(-np.sum((y_truth -y_pred)*((1-y_pred)*y_pred),axis = 0,keepdims = True))"
   ]
  },
  {
   "cell_type": "code",
   "execution_count": 31,
   "metadata": {},
   "outputs": [],
   "source": [
    "# set learning parameters\n",
    "eta = 0.001\n",
    "epsilon = 0.001"
   ]
  },
  {
   "cell_type": "code",
   "execution_count": 32,
   "metadata": {},
   "outputs": [],
   "source": [
    "# randomly initalize W and w0\n",
    "np.random.seed(421)\n",
    "W = np.random.uniform(low = -0.01, high = 0.01, size = (x_training.shape[1], K))\n",
    "w0 = np.random.uniform(low = -0.01, high = 0.01, size = (1, K))\n",
    "\n"
   ]
  },
  {
   "cell_type": "code",
   "execution_count": 33,
   "metadata": {},
   "outputs": [
    {
     "name": "stdout",
     "output_type": "stream",
     "text": [
      "[[-0.007313   -0.04365135 -0.02283699  0.11954214 -0.02471816]\n",
      " [-0.0772168   0.00808906 -0.11410913  0.19204372  0.02484684]\n",
      " [-0.08098001  0.06492251 -0.12291065  0.15759649  0.03581208]\n",
      " ...\n",
      " [ 0.04350351  0.12033443  0.03493316 -0.14106721 -0.11477042]\n",
      " [ 0.05483368 -0.15529821  0.04138291 -0.18311856 -0.01104428]\n",
      " [ 0.07461121 -0.23759405  0.09797277 -0.15343788 -0.01975529]]\n",
      "[[-0.04886843 -0.17238056 -0.01419691 -0.03881936 -0.16691034]]\n"
     ]
    }
   ],
   "source": [
    "# learn W and w0 using gradient descent\n",
    "iteration = 1\n",
    "objective_values = []\n",
    "while True:\n",
    "    \n",
    "    scores = sigmoid(W,w0,x_training)\n",
    "    y_predicted = scores\n",
    "    \n",
    "    objective_values = np.append(objective_values, 0.5 *np.sum(np.square(y_training - y_predicted)))\n",
    "\n",
    "    W_old = W\n",
    "    w0_old = w0\n",
    "    dW = gradient_W(x_training, y_training, y_predicted)\n",
    "    dw0 = gradient_w0(y_training, y_predicted)\n",
    "    W = W - eta * gradient_W(x_training, y_training, y_predicted)\n",
    "    w0 = w0 - eta * gradient_w0(y_training,y_predicted)\n",
    "\n",
    "    if np.sqrt(np.sum((w0 - w0_old))**2 + np.sum((W - W_old)**2)) < epsilon:\n",
    "        break\n",
    "\n",
    "    iteration = iteration + 1\n",
    "\n",
    "print(W)\n",
    "print(w0)"
   ]
  },
  {
   "cell_type": "code",
   "execution_count": 34,
   "metadata": {},
   "outputs": [
    {
     "data": {
      "image/png": "[encoded data removed]",
      "text/plain": [
       "<Figure size 576x288 with 1 Axes>"
      ]
     },
     "metadata": {
      "needs_background": "light"
     },
     "output_type": "display_data"
    }
   ],
   "source": [
    "# plot objective function during iterations\n",
    "plt.figure(figsize = (8, 4))\n",
    "plt.plot(range(1, iteration + 1), objective_values, \"k-\")\n",
    "plt.xlabel(\"Iteration\")\n",
    "plt.ylabel(\"Error\")\n",
    "plt.show()"
   ]
  },
  {
   "cell_type": "code",
   "execution_count": 35,
   "metadata": {},
   "outputs": [
    {
     "name": "stdout",
     "output_type": "stream",
     "text": [
      "y_truth   1   2   3   4   5\n",
      "y_pred                     \n",
      "1        25   0   0   0   0\n",
      "2         0  25   0   0   0\n",
      "3         0   0  25   0   0\n",
      "4         0   0   0  25   0\n",
      "5         0   0   0   0  25\n"
     ]
    }
   ],
   "source": [
    "# calculate confusion matrix\n",
    "y_predicted = np.argmax(y_predicted, axis = 1) + 1\n",
    "y_truth = np.argmax(y_training, axis = 1) + 1\n",
    "\n",
    "\n",
    "confusion_matrix = pd.crosstab(y_predicted, y_truth, rownames = [\"y_pred\"], colnames = [\"y_truth\"])\n",
    "print(confusion_matrix)"
   ]
  },
  {
   "cell_type": "code",
   "execution_count": 36,
   "metadata": {},
   "outputs": [
    {
     "name": "stdout",
     "output_type": "stream",
     "text": [
      "y_truth   1   2   3   4   5\n",
      "y_pred                     \n",
      "1        13   1   0   0   0\n",
      "2         1  11   0   0   1\n",
      "3         0   0  14   0   0\n",
      "4         0   0   0  14   0\n",
      "5         0   2   0   0  13\n"
     ]
    }
   ],
   "source": [
    "y_predicted = np.argmax(sigmoid(W,w0,test_x),axis = 1) +1\n",
    "y_truth = test_y\n",
    "confusion_matrix = pd.crosstab(y_predicted, y_truth, rownames = [\"y_pred\"], colnames = [\"y_truth\"])\n",
    "print(confusion_matrix)"
   ]
  },
  {
   "cell_type": "code",
   "execution_count": null,
   "metadata": {},
   "outputs": [],
   "source": []
  }
 ],
 "metadata": {
  "kernelspec": {
   "display_name": "Python 3 (ipykernel)",
   "language": "python",
   "name": "python3"
  },
  "language_info": {
   "codemirror_mode": {
    "name": "ipython",
    "version": 3
   },
   "file_extension": ".py",
   "mimetype": "text/x-python",
   "name": "python",
   "nbconvert_exporter": "python",
   "pygments_lexer": "ipython3",
   "version": "3.8.10"
  }
 },
 "nbformat": 4,
 "nbformat_minor": 4
}
